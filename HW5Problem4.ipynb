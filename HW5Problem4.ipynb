{
 "cells": [
  {
   "cell_type": "code",
   "execution_count": 1,
   "metadata": {
    "collapsed": true
   },
   "outputs": [],
   "source": [
    "using ReverseDiffSource\n"
   ]
  },
  {
   "cell_type": "code",
   "execution_count": 2,
   "metadata": {
    "collapsed": false
   },
   "outputs": [
    {
     "data": {
      "text/plain": [
       "2-element Array{Int64,1}:\n",
       " 0\n",
       " 0"
      ]
     },
     "execution_count": 2,
     "metadata": {},
     "output_type": "execute_result"
    }
   ],
   "source": [
    "# Prob 6, dimension = 2, x* = [1,1]\n",
    "f6(x) = (1 - x[1])^2\n",
    "c6(x) = 10*(x[2] - x[1]^2)\n",
    "x6_0 = [-1.2, 1]\n",
    "\n",
    "# Prob 7, dimension = 2, x* = [0,sqrt(3)]\n",
    "f7(x) = log(1 + x[1]^2) - x[2]\n",
    "c7(x) = (1 + x[1]^2)^2 + x[2]^2 - 4\n",
    "x7_0 = [2, 2]\n",
    "\n",
    "# Prob 8, dimension = 2, x* = [a,9/a], [-a,-9/a], a = sqrt( ( 25 +- sqrt(301) )/2 )\n",
    "f8(x) = -1*x[1]^0\n",
    "c81(x) = x[1]^2 + x[2]^2 - 25\n",
    "c82(x) = x[1]*x[2] - 9\n",
    "x8_0 = [2,1]\n",
    "\n",
    "# Prob 9, dimension = 2, x* = [12k - 3, 16k - 4] for integer k\n",
    "f9(x) = sin(pi*x[1]/12)*cos(pi*x[2]/16)\n",
    "c9(x) = 4*x[1] - 3*x[2]\n",
    "x9_0 = [0,0]"
   ]
  },
  {
   "cell_type": "code",
   "execution_count": 3,
   "metadata": {
    "collapsed": false
   },
   "outputs": [
    {
     "data": {
      "text/plain": [
       "(anonymous function)"
      ]
     },
     "execution_count": 3,
     "metadata": {},
     "output_type": "execute_result"
    }
   ],
   "source": [
    "#x[3] = y, x[4] = rho\n",
    "L6(x) = (1 - x[1])^2 - x[3]*10*(x[2] - x[1]^2) + (x[4]/2)*(10*(x[2] - x[1]^2))^2\n",
    "L7(x) = log(1 + x[1]^2) - x[2] - x[3]*((1 + x[1]^2)^2 + x[2]^2 - 4) + (x[4]/2)*((1 + x[1]^2)^2 + x[2]^2 - 4)^2\n",
    "L8(x) = -1 - x[3]*(x[1]^2 + x[2]^2 - 25) - x[4]*(x[1]*x[2] - 9) + (x[5]/2)*((x[1]^2 + x[2]^2 - 25)^2 + (x[1]*x[2] - 9)^2)\n",
    "L9(x) = sin(pi*x[1]/12)*cos(π*x[2]/16) - x[3]*(4*x[1] - 3*x[2]) + (x[4]/2)*(4*x[1] - 3*x[2])^2\n",
    "\n",
    "\n",
    "diff_f6 = rdiff( f6, (ones(2),), order = 2)\n",
    "diff_f7 = rdiff( f7, (ones(2),), order = 2)\n",
    "diff_f8 = rdiff( f8, (ones(1),), order = 2)\n",
    "diff_f9 = rdiff( f9, (ones(2),), order = 2)\n",
    "\n",
    "diff_c6 = [rdiff( c6, (ones(2),), order = 2)];\n",
    "diff_c7 = [rdiff( c7, (ones(2),), order = 2)];\n",
    "diff_c81 = rdiff( c81, (ones(2),), order = 2)\n",
    "diff_c82 = rdiff( c82, (ones(2),), order = 2)\n",
    "#diff_c8 = [diff_c81, diff_c82];\n",
    "diff_c9 = [rdiff( c9, (ones(2),), order = 2)];\n",
    "\n",
    "diff_L6 = rdiff( L6, (ones(4),), order = 2)\n",
    "diff_L7 = rdiff( L7, (ones(4),), order = 2)\n",
    "diff_L8 = rdiff( L8, (ones(5),), order = 2)\n",
    "diff_L9 = rdiff( L9, (ones(4),), order = 2)\n",
    "\n",
    "#function c(v,x)\n",
    "#    m = size(v,1);\n",
    "#    eval = [];\n",
    "#    grad = [];\n",
    "#    for i=1:m\n",
    "#        eval = [eval, v[i](x)(1)];\n",
    "#        grad = [grad; v[i](x)(2)]\n",
    "#    end\n",
    "#    return [eval,grad];\n",
    "#end\n",
    "\n",
    "\n",
    "newdiff_L6 = (function (x,y,rho)\n",
    "    tmp=diff_L6([x,y,rho]);\n",
    "    return (tmp[1], tmp[2][1:2],tmp[3][1:2,1:2])\n",
    "end)\n",
    "\n",
    "newdiff_L7 = (function (x,y,rho)\n",
    "    tmp=diff_L7([x,y,rho]);\n",
    "    return (tmp[1], tmp[2][1:2],tmp[3][1:2,1:2])\n",
    "end)\n",
    "\n",
    "#newdiff_L8 = (function (x,y,rho)\n",
    "#    tmp=diff_L8([x,y,rho]);\n",
    "#    return (tmp[1], tmp[2][1:2],tmp[3][1:2,1:2])\n",
    "#end)\n",
    "\n",
    "newdiff_L9 = (function (x,y,rho)\n",
    "    tmp=diff_L9([x,y,rho]);\n",
    "    return (tmp[1], tmp[2][1:2],tmp[3][1:2,1:2])\n",
    "end)\n"
   ]
  },
  {
   "cell_type": "code",
   "execution_count": 4,
   "metadata": {
    "collapsed": false
   },
   "outputs": [
    {
     "data": {
      "text/plain": [
       "warmup (generic function with 1 method)"
      ]
     },
     "execution_count": 4,
     "metadata": {},
     "output_type": "execute_result"
    }
   ],
   "source": [
    "function warmup(warmUp, obj, x, its, fvals, gNormVals)\n",
    "    for i = 1:warmUp\n",
    "        (f,g,H) = obj(x);\n",
    "        (sigma, V) = eig(H)\n",
    "        L = maximum(sigma)\n",
    "        x = x - (1/L)*g\n",
    "\n",
    "        its = its + 1;\n",
    "        fvals = [fvals; f];\n",
    "        gNormVals = [gNormVals; norm(g,2)];\n",
    "    end\n",
    "    return (x,its,fvals,gNormVals)\n",
    "end"
   ]
  },
  {
   "cell_type": "code",
   "execution_count": 5,
   "metadata": {
    "collapsed": false
   },
   "outputs": [
    {
     "data": {
      "text/plain": [
       "newtstep1 (generic function with 1 method)"
      ]
     },
     "execution_count": 5,
     "metadata": {},
     "output_type": "execute_result"
    }
   ],
   "source": [
    "function newtstep1(obj,x,its,fvals,gNormVals)\n",
    "    (f,g,H) = obj(x);\n",
    "        \n",
    "    #modify H if not pos def\n",
    "    E = eigfact(H);\n",
    "    V = E[:vectors];\n",
    "    lambda = diagm(max(abs(E[:values]),1e-2));\n",
    "    d = -V*inv(lambda)*transpose(V)*g;\n",
    "        \n",
    "    #backtracking linesearch\n",
    "    alpha = 1;\n",
    "    mu = 10^-2.0;\n",
    "    (newf,newg,newH) = obj(x+alpha*d);\n",
    "    while newf > f + (alpha*mu)*(dot(g,d))\n",
    "        (newf, newg, newH) = obj(x + alpha*d);\n",
    "        alpha = alpha/2;\n",
    "    end\n",
    "\n",
    "    x = x+alpha*d;\n",
    "\n",
    "    its = its + 1;\n",
    "    fvals = [fvals; f];\n",
    "    gNormVals= [gNormVals; norm(g,2)];\n",
    "    return(x,g,its,fvals,gNormVals);\n",
    "end\n"
   ]
  },
  {
   "cell_type": "code",
   "execution_count": 6,
   "metadata": {
    "collapsed": false
   },
   "outputs": [
    {
     "data": {
      "text/plain": [
       "newtstep2 (generic function with 1 method)"
      ]
     },
     "execution_count": 6,
     "metadata": {},
     "output_type": "execute_result"
    }
   ],
   "source": [
    "function newtstep2(obj,x,its,fvals,gNormVals)\n",
    "    (f,g,H) = obj(x);\n",
    "        \n",
    "    #modify H if not pos def\n",
    "    E = eigfact(H);\n",
    "    V = E[:vectors];\n",
    "    lambda = diagm(max(E[:values],1e-2));\n",
    "    d = -V*inv(lambda)*transpose(V)*g;\n",
    "        \n",
    "    #backtracking linesearch\n",
    "    alpha = 1;\n",
    "    mu = 10^-2.0;\n",
    "    (newf,newg,newH) = obj(x+alpha*d);\n",
    "    while newf > f + (alpha*mu)*(dot(g,d))\n",
    "        (newf, newg, newH) = obj(x + alpha*d);\n",
    "        alpha = alpha/2;\n",
    "    end\n",
    "\n",
    "    x = x+alpha*d;\n",
    "\n",
    "    its = its + 1;\n",
    "    fvals = [fvals; f];\n",
    "    gNormVals= [gNormVals; norm(g,2)];\n",
    "    return(x,g,its,fvals,gNormVals);\n",
    "end\n"
   ]
  },
  {
   "cell_type": "code",
   "execution_count": 7,
   "metadata": {
    "collapsed": false
   },
   "outputs": [
    {
     "data": {
      "text/plain": [
       "BFGSstep (generic function with 1 method)"
      ]
     },
     "execution_count": 7,
     "metadata": {},
     "output_type": "execute_result"
    }
   ],
   "source": [
    "function BFGSstep(obj,x,B,its,fvals,gNormVals)\n",
    "    (f,g,H) = obj(x);\n",
    "    d = -B\\g;\n",
    "        \n",
    "    \n",
    "    #backtracking linesearch with Wolfe condition\n",
    "    alpha = 1;\n",
    "    mu = 10^-2.0;\n",
    "    nu = 0.8;\n",
    "    oldx = x;\n",
    "    (oldf,oldg,oldH) = obj(x);\n",
    "    (newf,newg,newH) = obj(x+alpha*d);\n",
    "    alphaDir = 0;\n",
    "    while newf > f + (alpha*mu)*(dot(g,d))\n",
    "        (newf, newg, newH) = obj(x + alpha*d);\n",
    "        alpha = alpha/2;\n",
    "    end\n",
    "\n",
    "    x = x+alpha*d;\n",
    "    (f,g,H) = obj(x);\n",
    "    q = alpha*B*d;\n",
    "    y = g - oldg;\n",
    "    s = x - oldx;\n",
    "    \n",
    "    B = B - (1/(transpose(q)*s)[1])*(q*transpose(q)) + (1/(transpose(y)*s)[1])*(y*transpose(y));\n",
    "    \n",
    "    its = its + 1;\n",
    "    fvals = [fvals; f];\n",
    "    gNormVals= [gNormVals; norm(g,2)];\n",
    "    return(x,B,g,its,fvals,gNormVals);\n",
    "end"
   ]
  },
  {
   "cell_type": "code",
   "execution_count": 8,
   "metadata": {
    "collapsed": false
   },
   "outputs": [
    {
     "data": {
      "text/plain": [
       "Or (generic function with 1 method)"
      ]
     },
     "execution_count": 8,
     "metadata": {},
     "output_type": "execute_result"
    }
   ],
   "source": [
    "function Or(boolArray)\n",
    "    for i=1:size(boolArray,1)\n",
    "        if boolArray[i] == true\n",
    "            return (true, i)\n",
    "        end\n",
    "    end\n",
    "    return (false,size(boolArray,1))\n",
    "end"
   ]
  },
  {
   "cell_type": "code",
   "execution_count": 9,
   "metadata": {
    "collapsed": false
   },
   "outputs": [
    {
     "data": {
      "text/plain": [
       "newtmin (generic function with 1 method)"
      ]
     },
     "execution_count": 9,
     "metadata": {},
     "output_type": "execute_result"
    }
   ],
   "source": [
    "function newtmin(obj, x0, maxIts, optTol, warmUp, whileSwitch, randPerts,newtVers)\n",
    "    fvals = [];\n",
    "    gNormVals=[];\n",
    "    (f0,g0,H0) = obj(x0);\n",
    "    x = x0;\n",
    "    (f,g,H) = obj(x);\n",
    "    its = 0;\n",
    "    B = eye(size(x0,1));\n",
    "    \n",
    "\n",
    "    if warmUp > 0\n",
    "        (x,its,fvals,gNormVals) = warmup(warmUp,obj,x,its,fvals,gNormVals);\n",
    "    end\n",
    "    \n",
    "    while (norm(g,2) > optTol*whileSwitch*norm(g0,2) && norm(g,2) > 1e-8 && its < maxIts)\n",
    "        if newtVers == 1\n",
    "            (x,g,its,fvals,gNormVals) = newtstep1(obj,x,its,fvals,gNormVals);\n",
    "        end\n",
    "        if newtVers == 2\n",
    "            (x,g,its,fvals,gNormVals) = newtstep2(obj,x,its,fvals,gNormVals);\n",
    "        end\n",
    "        if newtVers == 3\n",
    "            (x,B,g,its,fvals,gNormVals) = BFGSstep(obj,x,B,its,fvals,gNormVals)\n",
    "        end\n",
    "    end \n",
    "    \n",
    "    if norm(g,2) < optTol*whileSwitch*norm(g0,2) || norm(g,2) < 1e-8\n",
    "#        println(\"Method computed optimal x: \", x)\n",
    "#        println(\"\\nIterations: \", its)\n",
    "#        println(\"\\nObjective: \", f)\n",
    "#        println(\"\\nInitial gradient norm: \", norm(g0,2))\n",
    "#        println(\"\\nGradient norm: \", norm(g,2))\n",
    "        return (x, its, fvals, gNormVals)\n",
    "    else\n",
    "        perts = 0;\n",
    "        while perts < randPerts\n",
    "            E = eigfact(H);\n",
    "            lambda = E[:values];\n",
    "            V = E[:vectors];\n",
    "            if Or(lambda.<0)[1]\n",
    "                perts = perts + 1\n",
    "                x = x + optTol*V[Or(lambda.<0)[2]];         #use small perturbation in decreasing eigenvector direction\n",
    "                while (norm(g,2) > optTol*whileSwitch*norm(g0,2) && norm(g,2) > 1e-8 && its < (perts + 1)*maxIts)\n",
    "                    (x,g,its,fvals,gNormVals) = newtstep1(x,its,fvals,gNormVals);\n",
    "                end \n",
    "            end\n",
    "            if norm(g,2) < optTol*whileSwitch*norm(g0,2) || norm(g,2) < 1e-8\n",
    "#                println(\"Method computed optimal x: \", x)\n",
    "#                println(\"\\nIterations: \", its)\n",
    "#                println(\"\\nObjective: \", f)\n",
    "#                println(\"\\nInitial gradient norm: \", norm(g0,2))\n",
    "#                println(\"\\nGradient norm: \", norm(g,2))\n",
    "                return (x, its, fvals, gNormVals)\n",
    "            end\n",
    "        end\n",
    "#        println(\"Method timed out on maxIts: \", its)\n",
    "#        println(\"\\nx: \", x)\n",
    "#        println(\"\\nObjective: \", f)\n",
    "#        println(\"\\nInitial gradient norm: \", norm(g0,2))\n",
    "#        println(\"\\nGradient norm: \", norm(g,2))\n",
    "    end\n",
    "    return (x, its, fvals, gNormVals);\n",
    "end"
   ]
  },
  {
   "cell_type": "code",
   "execution_count": 38,
   "metadata": {
    "collapsed": false
   },
   "outputs": [
    {
     "data": {
      "text/plain": [
       "augLag (generic function with 2 methods)"
      ]
     },
     "execution_count": 38,
     "metadata": {},
     "output_type": "execute_result"
    }
   ],
   "source": [
    "function augLag(LagOracle,fcnOracle,constraintOracle,x0,maxIts,newtvers)\n",
    "    f = fcnOracle\n",
    "    c = constraintOracle[1]\n",
    "    x = x0\n",
    "\n",
    "    k = 1\n",
    "    eta = 1/k\n",
    "    rho = 1e-2\n",
    "    cTol = 1e-6\n",
    "    gTol = 1e-6           \n",
    "\n",
    "    y = -rho*((c(x))[1])\n",
    "    L(x) = LagOracle(x,y,rho)\n",
    "    while ((norm(c(x)[1]) > cTol) || (norm(f(x)[2] - c(x)[2]*y) > gTol) ) && (k < maxIts)\n",
    "        if (norm(c(x)[1]) < eta)\n",
    "            y = y - rho*c(x)[1]\n",
    "        else\n",
    "            rho = 10*rho\n",
    "            L(x) = LagOracle(x,y,rho)\n",
    "        end\n",
    "        (x, its, fvals, gNormVals) = newtmin(L, x, 1000, 1e-3, 10, 1, 0, newtvers)\n",
    "        k = k + 1\n",
    "        eta = 1/k\n",
    "        println(\"passed iteration \",k,\" with x =\",x,\", c(x) = \",c(x)[1])\n",
    "    end\n",
    "    return (x, k)\n",
    "end\n"
   ]
  },
  {
   "cell_type": "code",
   "execution_count": 39,
   "metadata": {
    "collapsed": false
   },
   "outputs": [
    {
     "name": "stdout",
     "output_type": "stream",
     "text": [
      "passed iteration 2 with x =[0.9909584015022326,1.0252183517762168], c(x) = 0.43219798268356757\n",
      "passed iteration 3 with x =[1.0000038301809457,1.0007875817604626], c(x) = 0.007799213839008168\n",
      "passed iteration 4 with x =[0.9999997826405542,1.0000001156126577], c(x) = 5.503315019250721e-6\n",
      "passed iteration 5 with x =[1.0000000000005478,0.9999997300159585], c(x) = -2.699851370246975e-6\n",
      "passed iteration 6 with x =[1.0000000000002591,1.0000000000012355], c(x) = 7.172040739078511e-12\n",
      "Aug Lag with BFGS produced: [1.0000000000002591,1.0000000000012355] in 6 iterations.\n",
      "passed iteration 2 with x =[0.9999993580066834,1.043998697340156], c(x) = 0.4399998132637717\n",
      "passed iteration 3 with x =[0.9999999999997822,1.00000001867291], c(x) = 1.8673345758557502e-7\n",
      "Aug Lag with exact Newton produced: [0.9999999999997822,1.00000001867291] in 3iterations.\n"
     ]
    }
   ],
   "source": [
    "(xstar,k)=augLag(newdiff_L6, diff_f6, diff_c6, x6_0, 100,3)\n",
    "println(\"Aug Lag with BFGS produced: \", xstar, \" in \", k , \" iterations.\");\n",
    "(xstar,k)=augLag(newdiff_L6, diff_f6, diff_c6, x6_0, 100,1)\n",
    "println(\"Aug Lag with exact Newton produced: \", xstar, \" in \", k, \"iterations.\");"
   ]
  },
  {
   "cell_type": "code",
   "execution_count": 40,
   "metadata": {
    "collapsed": false
   },
   "outputs": [
    {
     "name": "stdout",
     "output_type": "stream",
     "text": [
      "passed iteration 2 with x =[0.0,1.8083056690029229], c(x) = 0.26996939254810837\n",
      "passed iteration 3 with x =[0.0,1.7547985051328368], c(x) = 0.07931779361643798\n",
      "passed iteration 4 with x =[0.0,1.7393494212074738], c(x) = 0.0253364090547743\n",
      "passed iteration 5 with x =[0.0,1.7344135514322154], c(x) = 0.008190367391710751\n",
      "passed iteration 6 with x =[0.0,1.7328178995660877], c(x) = 0.002657873056628013\n",
      "passed iteration 7 with x =[0.0,1.73230008592508], c(x) = 0.0008635876960392252\n",
      "passed iteration 8 with x =[0.0,1.732131839022089], c(x) = 0.00028070775404387405\n",
      "passed iteration 9 with x =[0.0,1.732077150588756], c(x) = 9.125559166456298e-5\n",
      "passed iteration 10 with x =[0.0,1.7320593788171295], c(x) = 2.9691748380855643e-5\n",
      "passed iteration 11 with x =[0.0,1.7320535894731373], c(x) = 9.636806779234064e-6\n",
      "passed iteration 12 with x =[0.0,1.7320517105740263], c(x) = 3.128102409988287e-6\n",
      "passed iteration 13 with x =[0.0,1.732051100511158], c(x) = 1.0147819136108183e-6\n",
      "passed iteration 14 with x =[0.0,1.7320509026034965], c(x) = 3.2920958670246137e-7\n",
      "Aug Lag with BFGS produced: [0.0,1.7320509026034965] in 14 iterations.\n",
      "passed iteration 2 with x =[0.0,1.8073443753203329], c(x) = 0.2664936910020437\n",
      "passed iteration 3 with x =[0.0,1.7554839206696982], c(x) = 0.08172379572985555\n",
      "passed iteration 4 with x =[0.0,1.7395606957256229], c(x) = 0.026071414113413738\n",
      "passed iteration 5 with x =[0.0,1.734479725376959], c(x) = 0.00841991774373163\n",
      "passed iteration 6 with x =[0.0,1.7328387019799822], c(x) = 0.0027299670796701037\n",
      "passed iteration 7 with x =[0.0,1.732306628476699], c(x) = 0.0008862550643087275\n",
      "passed iteration 8 with x =[0.0,1.7321338955063499], c(x) = 0.00028783196200254935\n",
      "passed iteration 9 with x =[0.0,1.732077796358468], c(x) = 9.349263800650931e-5\n",
      "passed iteration 10 with x =[0.0,1.732059578705649], c(x) = 3.038418599032866e-5\n",
      "passed iteration 11 with x =[0.0,1.7320536535692195], c(x) = 9.858842481946795e-6\n",
      "passed iteration 12 with x =[0.0,1.7320517309367496], c(x) = 3.198640990298429e-6\n",
      "passed iteration 13 with x =[0.0,1.732051107670266], c(x) = 1.0395817948705144e-6\n",
      "passed iteration 14 with x =[0.0,1.7320509049440262], c(x) = 3.373174202181417e-7\n",
      "Aug Lag with exact Newton produced: [0.0,1.7320509049440262] in 14iterations.\n"
     ]
    }
   ],
   "source": [
    "(xstar,k)=augLag(newdiff_L7, diff_f7, diff_c7, x7_0, 100,3)\n",
    "println(\"Aug Lag with BFGS produced: \", xstar, \" in \", k , \" iterations.\");\n",
    "(xstar,k)=augLag(newdiff_L7, diff_f7, diff_c7, x7_0, 100,1)\n",
    "println(\"Aug Lag with exact Newton produced: \", xstar, \" in \", k, \"iterations.\");"
   ]
  },
  {
   "cell_type": "code",
   "execution_count": 41,
   "metadata": {
    "collapsed": false
   },
   "outputs": [
    {
     "name": "stdout",
     "output_type": "stream",
     "text": [
      "passed iteration 2 with x =[-3.400752632299028,-3.4659451486326796], c(x) = -3.205175083298073\n",
      "passed iteration 3 with x =[-3.0409470182607836,-3.945538087950912], c(x) = -0.3271738091903984\n",
      "passed iteration 4 with x =[-3.00000950114947,-3.9999875265035754], c(x) = -7.542508715374652e-5\n",
      "passed iteration 5 with x =[-3.000000000058943,-3.9999999999214553], c(x) = -4.714060253263597e-10\n",
      "Aug Lag with BFGS produced: [-3.000000000058943,-3.9999999999214553] in 5 iterations.\n",
      "passed iteration 2 with x =[-3.4001173411458305,-3.466510211805559], c(x) = -3.200938729166646\n",
      "passed iteration 3 with x =[-3.0408967761875303,-3.9454709650832553], c(x) = -0.32717420950035603\n",
      "passed iteration 4 with x =[-3.0000093781555797,-3.999987495792561], c(x) = -7.502524463554039e-5\n",
      "passed iteration 5 with x =[-3.000000000000493,-3.999999999999342], c(x) = -3.9470648971473565e-12\n",
      "Aug Lag with exact Newton produced: [-3.000000000000493,-3.999999999999342] in 5iterations.\n"
     ]
    }
   ],
   "source": [
    "(xstar,k)=augLag(newdiff_L9, diff_f9, diff_c9, x9_0, 100,3)\n",
    "println(\"Aug Lag with BFGS produced: \", xstar, \" in \", k , \" iterations.\");\n",
    "(xstar,k)=augLag(newdiff_L9, diff_f9, diff_c9, x9_0, 100,1)\n",
    "println(\"Aug Lag with exact Newton produced: \", xstar, \" in \", k, \"iterations.\");"
   ]
  },
  {
   "cell_type": "code",
   "execution_count": null,
   "metadata": {
    "collapsed": true
   },
   "outputs": [],
   "source": []
  }
 ],
 "metadata": {
  "kernelspec": {
   "display_name": "Julia 0.3.11",
   "language": "julia",
   "name": "julia-0.3"
  },
  "language_info": {
   "file_extension": ".jl",
   "mimetype": "application/julia",
   "name": "julia",
   "version": "0.3.11"
  }
 },
 "nbformat": 4,
 "nbformat_minor": 0
}
